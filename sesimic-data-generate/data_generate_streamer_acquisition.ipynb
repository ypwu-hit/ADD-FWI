{
 "cells": [
  {
   "cell_type": "code",
   "execution_count": null,
   "id": "23506920-2412-474d-99ed-ddd91fcb39de",
   "metadata": {
    "pycharm": {
     "name": "#%%\n"
    }
   },
   "outputs": [],
   "source": [
    "# @author: wuyuping (ypwu@stu.hit.edu.cn)\n",
    "\n",
    "import torch\n",
    "import numpy as np\n",
    "import matplotlib.pyplot as plt\n",
    "import deepwave\n",
    "from deepwave import scalar\n",
    "import scipy\n",
    "import torch.nn.functional as F"
   ]
  },
  {
   "cell_type": "code",
   "execution_count": null,
   "id": "6fbab033-e2f3-45f0-8b02-0e768508351b",
   "metadata": {
    "pycharm": {
     "name": "#%%\n"
    }
   },
   "outputs": [],
   "source": [
    "def sliding_average_filter(signal, size=5, std=1, mode='gau'):\n",
    "    \"\"\"\n",
    "    滑动平均滤波器\n",
    "    :param size: 滤波器的大小\n",
    "    :param std: 控制标准差，决定滤波器的分布\n",
    "    :return: 滑动平均滤波器的PyTorch张量\n",
    "    \"\"\"\n",
    "    if mode == 'gau':\n",
    "        # 创建一个1D滤波器的权重，使用高斯分布\n",
    "        weights = torch.exp(-(torch.arange(size).float() - (size - 1) / 2) ** 2 / (2 * std ** 2))\n",
    "    else:\n",
    "        weights = torch.ones(size)\n",
    "    \n",
    "    # 归一化权重，确保总和为1\n",
    "    weights /= weights.sum()\n",
    "    # 创建1D卷积层，设置卷积核为创建的滑动平均滤波器\n",
    "\n",
    "    return F.conv1d(F.pad(signal.view(1,1,-1),((size - 1) // 2,(size - 1) // 2), mode='replicate'), weights.view(1, 1, size), \n",
    "                                      bias=None, stride=1, padding=0)[0,0]\n",
    "\n",
    "# 高通滤波\n",
    "def filter_highpass(signal, low_l, low_cut, nt, dt):\n",
    "\n",
    "    # 傅里叶变换\n",
    "    signal_fft = torch.fft.rfft(signal)\n",
    "    # 滤波系数, low_l左端点, low_cut右端点\n",
    "    co_e = co_filter_highpass(low_l, low_cut, nt, dt, signal_fft.shape[-1])\n",
    "\n",
    "    signal_fft_filtered = (signal_fft * co_e)\n",
    "\n",
    "    signal_filtered = torch.fft.irfft(signal_fft_filtered)\n",
    "\n",
    "    return signal_filtered\n",
    "\n",
    "# 高通滤波系数\n",
    "def co_filter_highpass(low_l, low_cut, nt, dt, nt_fft):\n",
    "    #     signal_fft = torch.fft.rfft(signal)\n",
    "\n",
    "    co_signal = torch.ones(nt_fft)\n",
    "\n",
    "    # freq = torch.arange((n + 1) // 2) / (d * n)\n",
    "    # index = freq * (d * n)\n",
    "\n",
    "    # end\n",
    "    low_cut_index = int(low_cut * dt * nt)\n",
    "    # begin\n",
    "    low_l_index = int(low_l * dt * nt)\n",
    "\n",
    "    co_signal[0:low_l_index + 1] = 0\n",
    "\n",
    "    # tensor([0.0000, 0.1250, 0.2500, 0.3750, 0.5000, 0.6250, 0.7500, 0.8750])\n",
    "    co_signal[low_l_index:low_cut_index] = torch.arange(0, 1, 1.0 / (low_cut_index - low_l_index))\n",
    "\n",
    "    # 分段平滑\n",
    "    index_length = 4\n",
    "    co_signal[low_cut_index-index_length:low_cut_index+index_length] = torch.arange(co_signal[low_cut_index-index_length], \n",
    "                                                                                    1, (1-co_signal[low_cut_index-index_length]) / (2*index_length))\n",
    "    \n",
    "    low_cut_index = low_cut_index + index_length\n",
    "    index_length = 3\n",
    "    co_signal[low_cut_index-index_length:low_cut_index+index_length] = torch.arange(co_signal[low_cut_index-index_length], \n",
    "                                                                                    1, (1-co_signal[low_cut_index-index_length]) / (2*index_length))\n",
    "    \n",
    "    low_cut_index = low_cut_index + index_length\n",
    "    index_length = 2\n",
    "    co_signal[low_cut_index-index_length:low_cut_index+index_length] = torch.arange(co_signal[low_cut_index-index_length], \n",
    "                                                                                    1, (1-co_signal[low_cut_index-index_length]) / (2*index_length))\n",
    "    \n",
    "    \n",
    "    \n",
    "    index_length = 4\n",
    "    co_signal[low_l_index-index_length:low_l_index+index_length] = torch.arange(0, co_signal[low_l_index+index_length], \n",
    "                                                                                co_signal[low_l_index+index_length] / (2*index_length))\n",
    "    \n",
    "    low_l_index = low_l_index - index_length\n",
    "    index_length = 3\n",
    "    co_signal[low_l_index-index_length:low_l_index+index_length] = torch.arange(0, co_signal[low_l_index+index_length], \n",
    "                                                                                co_signal[low_l_index+index_length] / (2*index_length))\n",
    "    \n",
    "    low_l_index = low_l_index - index_length\n",
    "    index_length = 2\n",
    "    co_signal[low_l_index-index_length:low_l_index+index_length] = torch.arange(0, co_signal[low_l_index+index_length], \n",
    "                                                                                co_signal[low_l_index+index_length] / (2*index_length))\n",
    "\n",
    "    return sliding_average_filter(co_signal)\n",
    "    # return co_signal"
   ]
  },
  {
   "cell_type": "code",
   "execution_count": null,
   "id": "b7ec5ad8-e00e-4cbb-b476-f7f0fbb38de4",
   "metadata": {
    "pycharm": {
     "name": "#%%\n"
    }
   },
   "outputs": [],
   "source": [
    "torch.set_default_dtype(torch.float)\n",
    "\n",
    "# PyTorch random number generator\n",
    "torch.manual_seed(1234)\n",
    "\n",
    "# Random number generators in other libraries\n",
    "np.random.seed(1234)\n",
    "\n",
    "ny = 340\n",
    "nx = 130\n",
    "\n",
    "v_true = torch.from_file('mar_big_vp_130_340.bin',\n",
    "                    size=ny * nx).reshape(ny, nx)\n",
    "v_true = v_true[70:-70]"
   ]
  },
  {
   "cell_type": "code",
   "execution_count": null,
   "id": "d75b4225-d450-4725-93ea-fd26e7ab1a54",
   "metadata": {
    "pycharm": {
     "name": "#%%\n"
    }
   },
   "outputs": [],
   "source": [
    "plt.imshow(v_true.T, cmap='jet', aspect='auto')"
   ]
  },
  {
   "cell_type": "code",
   "execution_count": null,
   "id": "1d7af468-226c-480a-850b-d8aa6455555a",
   "metadata": {
    "pycharm": {
     "name": "#%%\n"
    }
   },
   "outputs": [],
   "source": [
    "plt.figure(figsize=(10, 5))\n",
    "\n",
    "plt.rcParams['xtick.bottom'] = plt.rcParams['xtick.labelbottom'] = False\n",
    "plt.rcParams['xtick.top'] = plt.rcParams['xtick.labeltop'] = True\n",
    "plt.title(\"Position (km)\", fontsize=20)\n",
    "\n",
    "plt.imshow(v_true.T, aspect='auto', cmap='jet', vmin=1500, vmax=4700)\n",
    "plt.yticks(np.arange(0,130,40), np.arange(0,130,40)*12.5/1000.0, fontsize=15)\n",
    "plt.xticks(np.arange(0,200,40), np.arange(0,200,40)*12.5/1000.0, fontsize=15)\n",
    "plt.colorbar()\n",
    "\n",
    "plt.scatter(source_locations[0,:,0], source_locations[0,:,1], c='r', s=10, label='source')\n",
    "plt.scatter(receiver_locations_tuolan[0,:,0], receiver_locations_tuolan[0,:,1], c='m', s=1, label='receivers')\n",
    "\n",
    "# plt.xlabel(\"X\")\n",
    "plt.ylabel(\"Depth (km)\", fontsize=20)\n",
    "# plt.title(\"outputs\")\n",
    "plt.tight_layout()\n",
    "plt.legend(fontsize=15)\n",
    "# plt.savefig('M2-true.png',dpi=100,transparent=True,bbox_inches='tight')\n",
    "# plt.savefig('M2-true-tuolan.eps',dpi=100,transparent=True,bbox_inches='tight')\n",
    "# plt.savefig('denoise_data_nor.png')\n",
    "# plt.close()"
   ]
  },
  {
   "cell_type": "code",
   "execution_count": null,
   "id": "26d28aad-8662-401d-b550-9757ce0ac5f5",
   "metadata": {
    "pycharm": {
     "name": "#%%\n"
    }
   },
   "outputs": [],
   "source": []
  },
  {
   "cell_type": "code",
   "execution_count": null,
   "id": "d7bf21b4-1ed6-4063-a4f0-827fc201b500",
   "metadata": {
    "pycharm": {
     "name": "#%%\n"
    }
   },
   "outputs": [],
   "source": [
    "velocity_index = torch.where(v_true == 1500, 1, 0)\n",
    "index_seafloor = torch.sum(velocity_index,1)"
   ]
  },
  {
   "cell_type": "code",
   "execution_count": null,
   "id": "7cbc3689-552e-46b1-9306-84d7b482eb92",
   "metadata": {
    "pycharm": {
     "name": "#%%\n"
    }
   },
   "outputs": [],
   "source": [
    "print(torch.max(v_true), torch.min(v_true), v_true.shape)"
   ]
  },
  {
   "cell_type": "code",
   "execution_count": null,
   "id": "9f408272-8908-44e9-a7c2-fee8fd323ee7",
   "metadata": {
    "pycharm": {
     "name": "#%%\n"
    }
   },
   "outputs": [],
   "source": [
    "print(deepwave.common.cfl_condition(dy = 12.5, dx = 12.5, dt = 0.001, max_vel = 4700))"
   ]
  },
  {
   "cell_type": "code",
   "execution_count": null,
   "id": "298e2214-432a-41cc-9f85-dba4fb235f01",
   "metadata": {
    "pycharm": {
     "name": "#%%\n"
    }
   },
   "outputs": [],
   "source": [
    "dx = 12.5\n",
    "n_shots = 20\n",
    "n_sources_per_shot = 1\n",
    "d_source = 10  # 10 * 8m = 80m\n",
    "first_source = 4  # 5 * 8m = 40m\n",
    "source_depth = 2  # 1 * 8m = 8m\n",
    "\n",
    "n_receivers_per_shot = 200\n",
    "d_receiver = 1  # 3 * 8m = 24m\n",
    "first_receiver = 0  # 0 * 8m = 0m\n",
    "receiver_depth = 3  # 1 * 8m = 8m\n",
    "\n",
    "freq = 15\n",
    "nt = 4000\n",
    "dt = 0.001\n",
    "peak_time = 6.0 / freq\n",
    "\n",
    "print(deepwave.common.cfl_condition(dy = dx, dx = dx, dt = dt, max_vel = 4700))\n",
    "\n",
    "# source_locations, [shot, source, space]\n",
    "source_locations = torch.zeros(n_shots, n_sources_per_shot, 2,\n",
    "                               dtype=torch.long)\n",
    "source_locations[..., 1] = source_depth\n",
    "source_locations[:, 0, 0] = torch.arange(n_shots) * d_source + first_source\n",
    "\n",
    "# receiver_locations [shot, receiver, space]\n",
    "receiver_locations = torch.zeros(n_shots, n_receivers_per_shot, 2,\n",
    "                                 dtype=torch.long)\n",
    "receiver_locations[..., 1] = receiver_depth\n",
    "receiver_locations[:, :, 0] = (\n",
    "    (torch.arange(n_receivers_per_shot) * d_receiver + first_receiver)\n",
    "           .repeat(n_shots, 1))\n",
    "\n",
    "# 拖缆设置\n",
    "for index in range(n_shots):\n",
    "    # 首先判断这个长度来判断拖缆的方向, \n",
    "    # 如果炮点位置(source_locations[index,0,0])后延长拖缆距离(80 + 24)不超出则可以设定\n",
    "    if source_locations[index,0,0] + 80 + 24 < 200:\n",
    "        begin = source_locations[index,0,0] + 4\n",
    "        end = source_locations[index,0,0] + 4 + 76\n",
    "        receiver_locations[index,0:begin,0] = 0\n",
    "        receiver_locations[index,end:,0] = 0\n",
    "    else:\n",
    "        begin = source_locations[index,0,0] - 4\n",
    "        end = source_locations[index,0,0] - 4 - 76\n",
    "        receiver_locations[index,begin+1:,0] = 0\n",
    "        receiver_locations[index,0:end+1,0] = 0\n",
    "\n",
    "n_receivers_per_shot_tuolan = torch.sum(torch.where(receiver_locations[:,:,0]>0,1,0),1)\n",
    "# receiver_locations [shot, receiver, space]\n",
    "receiver_locations_tuolan = torch.zeros(n_shots, n_receivers_per_shot_tuolan[0], 2,\n",
    "                                 dtype=torch.long)\n",
    "receiver_locations_tuolan[..., 1] = receiver_depth\n",
    "receiver_locations_tuolan[:, :, 0] = (\n",
    "    (torch.arange(n_receivers_per_shot_tuolan[0]) * d_receiver + first_receiver)\n",
    "           .repeat(n_shots, 1))\n",
    "\n",
    "for index in range(n_shots):\n",
    "    # 相当于找到检波器的位置索引\n",
    "    index_receivers = torch.argwhere(receiver_locations[index,:,0] > 0)\n",
    "    receiver_locations_tuolan[index, :, 0] = receiver_locations[index, index_receivers, 0][:,0]"
   ]
  },
  {
   "cell_type": "code",
   "execution_count": null,
   "id": "2b5e96c1-671c-4f11-b77c-ce0076ef2e27",
   "metadata": {
    "pycharm": {
     "name": "#%%\n"
    }
   },
   "outputs": [],
   "source": [
    "plt.scatter(source_locations[0,:,0], source_locations[0,:,1], s=10, label='source')\n",
    "plt.scatter(receiver_locations_tuolan[0,:,0], receiver_locations_tuolan[0,:,1], s=1, label='receivers')\n",
    "plt.ylim(0,100)\n",
    "plt.xlim(-5,200)\n",
    "plt.gca().invert_yaxis()\n",
    "plt.legend()\n",
    "plt.xlabel('Width')\n",
    "plt.ylabel('Depth')\n",
    "plt.title('Acquisition System')"
   ]
  },
  {
   "cell_type": "code",
   "execution_count": null,
   "id": "7e2d84b7-714b-4e83-8fb6-746420ae5c91",
   "metadata": {
    "pycharm": {
     "name": "#%%\n"
    }
   },
   "outputs": [],
   "source": [
    "source_amplitudes = (\n",
    "        deepwave.wavelets.ricker(freq, nt, dt, peak_time)\n",
    "    )\n",
    "print(peak_time)"
   ]
  },
  {
   "cell_type": "code",
   "execution_count": null,
   "id": "caadfb9b-c713-4468-b3bf-97f1deafa60e",
   "metadata": {
    "pycharm": {
     "name": "#%%\n"
    }
   },
   "outputs": [],
   "source": [
    "source_amplitudes_filtered = filter_highpass(source_amplitudes, 12, 13, nt, dt)"
   ]
  },
  {
   "cell_type": "code",
   "execution_count": null,
   "id": "4159329c-e1c8-41b2-9994-c571c7ff9242",
   "metadata": {
    "pycharm": {
     "name": "#%%\n"
    }
   },
   "outputs": [],
   "source": [
    "freq_list = torch.fft.rfftfreq(nt,dt)\n",
    "trace_observed_fft = torch.fft.rfft(source_amplitudes)\n",
    "trace_observed_fft_amp = torch.abs(trace_observed_fft)\n",
    "\n",
    "filtered_highpass_fft = torch.fft.rfft(source_amplitudes_filtered)\n",
    "filtered_highpass_fft_amp = torch.abs(filtered_highpass_fft)"
   ]
  },
  {
   "cell_type": "code",
   "execution_count": null,
   "id": "d7034718-f345-46ad-949c-4c4b0f8714ef",
   "metadata": {
    "pycharm": {
     "name": "#%%\n"
    }
   },
   "outputs": [],
   "source": [
    "plt.figure(figsize=(10, 5))\n",
    "\n",
    "plt.rcParams['xtick.bottom'] = plt.rcParams['xtick.labelbottom'] = True\n",
    "plt.rcParams['xtick.top'] = plt.rcParams['xtick.labeltop'] = False\n",
    "\n",
    "plt.plot(freq_list[0:200], trace_observed_fft_amp.cpu().detach().numpy()[0:200], label='Original')\n",
    "plt.plot(freq_list[0:200], filtered_highpass_fft_amp[0:200], label='Filtered')\n",
    "# plt.title('Trace-Spectrum')\n",
    "plt.xlabel(\"Frequency\", fontsize=20)\n",
    "plt.ylabel(\"Amplitude\", fontsize=20)\n",
    "plt.xticks(fontsize=15)\n",
    "plt.yticks(fontsize=15)\n",
    "plt.legend(fontsize=15)\n",
    "# plt.savefig('wavelet-freq-tuolan.eps',dpi=100,transparent=True,bbox_inches='tight')\n",
    "plt.show()"
   ]
  },
  {
   "cell_type": "code",
   "execution_count": null,
   "id": "55dd49a2-cda7-41dd-9bc4-21b91d768a26",
   "metadata": {
    "pycharm": {
     "name": "#%%\n"
    }
   },
   "outputs": [],
   "source": [
    "plt.figure(figsize=(10, 5))\n",
    "plt.xlabel(\"Time (s)\", fontsize=20)\n",
    "plt.ylabel(\"Amplitude\", fontsize=20)\n",
    "plt.plot(source_amplitudes[0:1000], label='Original')\n",
    "plt.plot(source_amplitudes_filtered[0:1000], label='Filtered')\n",
    "plt.yticks(fontsize=15)\n",
    "plt.xticks(np.arange(0,1001,250), np.arange(0,1001,250)/1000.0,fontsize=15)\n",
    "plt.legend(fontsize=15)\n",
    "# plt.savefig('wavelet_tuolan.eps',dpi=100,transparent=True,bbox_inches='tight')"
   ]
  },
  {
   "cell_type": "code",
   "execution_count": null,
   "id": "37b45305-a2df-4347-9807-08474876902e",
   "metadata": {
    "pycharm": {
     "name": "#%%\n"
    }
   },
   "outputs": [],
   "source": []
  },
  {
   "cell_type": "code",
   "execution_count": null,
   "id": "89f280b8-5382-4ff4-9a1f-306b487ec7d5",
   "metadata": {
    "pycharm": {
     "name": "#%%\n"
    }
   },
   "outputs": [],
   "source": []
  },
  {
   "cell_type": "code",
   "execution_count": null,
   "id": "8453dfb2-d580-4597-97b2-7617b8318102",
   "metadata": {
    "pycharm": {
     "name": "#%%\n"
    }
   },
   "outputs": [],
   "source": []
  },
  {
   "cell_type": "code",
   "execution_count": null,
   "id": "c97eb684-3475-4770-9f7c-d786b11ec3d5",
   "metadata": {
    "pycharm": {
     "name": "#%%\n"
    }
   },
   "outputs": [],
   "source": []
  },
  {
   "cell_type": "code",
   "execution_count": null,
   "id": "166de67a-3e69-422d-9cf5-fb08afc1a0ee",
   "metadata": {
    "pycharm": {
     "name": "#%%\n"
    }
   },
   "outputs": [],
   "source": [
    "fig, axes = plt.subplots(1, 3, figsize=(15, 3.5))\n",
    "fig.subplots_adjust(wspace=0.1)\n",
    "\n",
    "axes[0].text(-35.,6,\"a)\",fontsize = 18, weight='bold')\n",
    "im = axes[0].imshow(v_true.T, aspect='auto', cmap='jet', vmin=1500, vmax=4700)\n",
    "axes[0].set_yticks(np.arange(0,130,40), np.arange(0,130,40)*12.5/1000.0, fontsize=12)\n",
    "axes[0].set_xticks(np.arange(0,200,40), np.arange(0,200,40)*12.5/1000.0, fontsize=12)\n",
    "# axes[0].colorbar()\n",
    "\n",
    "axes[0].scatter(source_locations[0,:,0], source_locations[0,:,1], c='r', s=10, label='source')\n",
    "axes[0].scatter(receiver_locations_tuolan[0,:,0], receiver_locations_tuolan[0,:,1], c='m', s=1, label='receivers')\n",
    "\n",
    "# plt.xlabel(\"X\")\n",
    "# 在顶部坐标轴设置标签\n",
    "axes[0].xaxis.set_label_position('top')\n",
    "# 设置顶部坐标轴的刻度线，如果没有下面的代码，默认刻度标签在底部\n",
    "axes[0].xaxis.tick_top()\n",
    "axes[0].set_ylabel(\"Depth (km)\", fontsize=12)\n",
    "axes[0].set_xlabel(\"Position (km)\", fontsize=12)\n",
    "# plt.title(\"outputs\")\n",
    "axes[0].legend(fontsize=11)\n",
    "\n",
    "axes[1].text(-7.,27.5,\"b)\",fontsize = 18, weight='bold')\n",
    "axes[1].plot(freq_list[0:200], trace_observed_fft_amp.cpu().detach().numpy()[0:200], label='Original')\n",
    "axes[1].plot(freq_list[0:200], filtered_highpass_fft_amp[0:200], label='Filtered')\n",
    "# plt.title('Trace-Spectrum')\n",
    "axes[1].set_xlabel(\"Frequency\", fontsize=12)\n",
    "axes[1].yaxis.set_major_formatter(plt.NullFormatter())\n",
    "axes[1].set_yticks([])\n",
    "# axes[1].set_ylabel(\"Amplitude\", fontsize=12)\n",
    "axes[1].tick_params(axis='y',labelsize=12)\n",
    "axes[1].tick_params(axis='x',labelsize=12)\n",
    "axes[1].legend(fontsize=12)\n",
    "\n",
    "\n",
    "axes[2].text(-140,1,\"c)\",fontsize = 18, weight='bold')\n",
    "axes[2].yaxis.set_major_formatter(plt.NullFormatter())\n",
    "axes[2].set_yticks([])\n",
    "axes[2].set_xlabel(\"Time (s)\", fontsize=12)\n",
    "# ax_right.set_ylabel(\"Amplitude\", fontsize=12)\n",
    "axes[2].plot(source_amplitudes[0:1000], label='Original')\n",
    "axes[2].plot(source_amplitudes_filtered[0:1000], label='Filtered')\n",
    "axes[2].tick_params(axis='y',labelsize=12)\n",
    "axes[2].set_xticks(np.arange(0,1001,250), np.arange(0,1001,250)/1000.0,fontsize=12)\n",
    "axes[2].legend(fontsize=12)\n",
    "\n",
    "position=fig.add_axes([0.15, 0.08, 0.2, 0.02])\n",
    "cbar = fig.colorbar(im, ax=[axes[0]], \n",
    "                    cax=position,orientation='horizontal', fraction=0.025)\n",
    "\n",
    "# plt.savefig('ae_m2_tuolan.png',dpi=100,transparent=True,bbox_inches='tight')\n",
    "# plt.savefig('ae_m2_tuolan.eps',dpi=100,transparent=True,bbox_inches='tight')\n",
    "# plt.savefig('ae_m2_tuolan.pdf',dpi=300,transparent=True,bbox_inches='tight')"
   ]
  },
  {
   "cell_type": "code",
   "execution_count": null,
   "id": "7d4f117f-0ebb-4d82-8783-27d44c224e66",
   "metadata": {
    "pycharm": {
     "name": "#%%\n"
    }
   },
   "outputs": [],
   "source": []
  },
  {
   "cell_type": "code",
   "execution_count": null,
   "id": "34335f29-ec7a-4906-af2d-8943f73d4a13",
   "metadata": {
    "pycharm": {
     "name": "#%%\n"
    }
   },
   "outputs": [],
   "source": []
  },
  {
   "cell_type": "code",
   "execution_count": null,
   "id": "40e426f7-e4cf-4966-82c5-797344b0f962",
   "metadata": {
    "pycharm": {
     "name": "#%%\n"
    }
   },
   "outputs": [],
   "source": []
  },
  {
   "cell_type": "code",
   "execution_count": null,
   "id": "985c5e95-4833-44fd-aa00-bd16ee6bb233",
   "metadata": {
    "pycharm": {
     "name": "#%%\n"
    }
   },
   "outputs": [],
   "source": []
  },
  {
   "cell_type": "code",
   "execution_count": null,
   "id": "78e6eebe-96a6-4aaf-92ef-72cc412a96a0",
   "metadata": {
    "pycharm": {
     "name": "#%%\n"
    }
   },
   "outputs": [],
   "source": []
  },
  {
   "cell_type": "code",
   "execution_count": null,
   "id": "f3077a11-45fa-4e9e-83d5-98420de0cc16",
   "metadata": {
    "pycharm": {
     "name": "#%%\n"
    }
   },
   "outputs": [],
   "source": []
  },
  {
   "cell_type": "code",
   "execution_count": null,
   "id": "3a35bc2c-76ec-463b-a924-216e2f96c341",
   "metadata": {
    "pycharm": {
     "name": "#%%\n"
    }
   },
   "outputs": [],
   "source": [
    "filtered_highpass_f = source_amplitudes_filtered.repeat(n_shots, n_sources_per_shot, 1)"
   ]
  },
  {
   "cell_type": "code",
   "execution_count": null,
   "id": "8d5e96df-f55c-4018-b731-9850a6e25e30",
   "metadata": {
    "pycharm": {
     "name": "#%%\n"
    }
   },
   "outputs": [],
   "source": [
    "device = torch.device('cuda:0')"
   ]
  },
  {
   "cell_type": "code",
   "execution_count": null,
   "id": "c936a8d2-a1d1-4eae-8c62-43eeca3fdba8",
   "metadata": {
    "pycharm": {
     "name": "#%%\n"
    }
   },
   "outputs": [],
   "source": [
    "observed_data = scalar(\n",
    "            v_true.to(device), dx, dt,\n",
    "            source_amplitudes=filtered_highpass_f.to(device),\n",
    "            source_locations=source_locations.to(device),\n",
    "            receiver_locations=receiver_locations_tuolan.to(device),\n",
    "            max_vel=4700,\n",
    "            pml_freq=freq,\n",
    "            accuracy=8,\n",
    "            pml_width=[20, 20, 0, 20]\n",
    "        )[-1]"
   ]
  },
  {
   "cell_type": "code",
   "execution_count": null,
   "id": "47167dd6-4049-46e4-bbc2-7467241685e6",
   "metadata": {
    "pycharm": {
     "name": "#%%\n"
    }
   },
   "outputs": [],
   "source": [
    "observed_data.shape"
   ]
  },
  {
   "cell_type": "code",
   "execution_count": null,
   "id": "460d2dff-c75c-450b-b683-cee01d85e625",
   "metadata": {
    "pycharm": {
     "name": "#%%\n"
    }
   },
   "outputs": [],
   "source": [
    "figsize = (12, 6)\n",
    "plt.imshow(observed_data[0].cpu().T, aspect='auto', cmap='seismic',vmin=-4, vmax=4)\n",
    "plt.colorbar()\n",
    "plt.savefig('obs_data.png')\n",
    "plt.show()"
   ]
  },
  {
   "cell_type": "code",
   "execution_count": null,
   "id": "7a3f6972-994b-4ceb-8145-d257c5cb6a2f",
   "metadata": {
    "pycharm": {
     "name": "#%%\n"
    }
   },
   "outputs": [],
   "source": [
    "freq_list = torch.fft.rfftfreq(4000,dt)\n",
    "\n",
    "filtered_highpass_fft = torch.fft.rfft(observed_data[10].cpu()[30,:])\n",
    "filtered_highpass_fft_amp = torch.abs(filtered_highpass_fft)"
   ]
  },
  {
   "cell_type": "code",
   "execution_count": null,
   "id": "defbe291-b1ea-4497-a8a9-05a0efdb0156",
   "metadata": {
    "pycharm": {
     "name": "#%%\n"
    }
   },
   "outputs": [],
   "source": [
    "figsize = (12, 6)\n",
    "# plt.plot(freq_list[0:100], trace_observed_fft_amp.cpu().detach().numpy()[0:100], label='original_fft_amp')\n",
    "plt.plot(freq_list[0:100], filtered_highpass_fft_amp[0:100], label='filtered_fft_amp')\n",
    "plt.title('Trace-Spectrum')\n",
    "plt.xlabel('Frequency Hz')\n",
    "plt.ylabel('Amplitude')\n",
    "plt.legend()\n",
    "# plt.savefig('trace_freq.png')\n",
    "plt.show()"
   ]
  },
  {
   "cell_type": "code",
   "execution_count": null,
   "id": "c8d299d0-30bf-486b-9feb-fd2aa5e742e9",
   "metadata": {
    "pycharm": {
     "name": "#%%\n"
    }
   },
   "outputs": [],
   "source": [
    "def data_noise(observed_data, scale):\n",
    "    data_size = observed_data.size()\n",
    "    noise_d = torch.zeros_like(observed_data)\n",
    "    noise_d.normal_()\n",
    "    data_energy = torch.sqrt(torch.mean(observed_data**2,dim=[1,2], keepdim=False)) * scale\n",
    "    data_energy = data_energy.repeat(data_size[1],data_size[2]).reshape(data_size)\n",
    "    noise_d_energy = noise_d * data_energy\n",
    "    \n",
    "    return noise_d_energy"
   ]
  },
  {
   "cell_type": "code",
   "execution_count": null,
   "id": "08cfd824-867f-4c17-bf9d-aebe7005d8fd",
   "metadata": {
    "pycharm": {
     "name": "#%%\n"
    }
   },
   "outputs": [],
   "source": [
    "noise = data_noise(observed_data, scale=0.5)\n",
    "observed_data_noise = observed_data + noise\n",
    "observed_data_noise.shape"
   ]
  },
  {
   "cell_type": "code",
   "execution_count": null,
   "id": "57d30710-e498-4a20-8226-499bfc926724",
   "metadata": {
    "pycharm": {
     "name": "#%%\n"
    }
   },
   "outputs": [],
   "source": [
    "figsize = (12, 6)\n",
    "plt.imshow(observed_data_noise[0].cpu().T, aspect='auto', cmap='seismic',vmin=-5, vmax=5)\n",
    "plt.colorbar()\n",
    "plt.savefig('obs_data_noise.png')\n",
    "plt.show()"
   ]
  },
  {
   "cell_type": "code",
   "execution_count": null,
   "id": "e3f0a27d-5189-49e4-b9ac-54910b84a981",
   "metadata": {
    "pycharm": {
     "name": "#%%\n"
    }
   },
   "outputs": [],
   "source": [
    "snr = 0.0\n",
    "for i in range(n_shots):\n",
    "    rec_ind = observed_data[i,:,:]\n",
    "    target_ind  = observed_data_noise[i,:,:]\n",
    "    s      = 10*torch.log10(torch.sum(target_ind**2)/torch.sum((rec_ind-target_ind)**2))\n",
    "    snr    = snr + s\n",
    "snr = snr/n_shots\n",
    "print(snr)"
   ]
  },
  {
   "cell_type": "code",
   "execution_count": null,
   "id": "c970e868-628d-4e77-ae55-734f3430e0d4",
   "metadata": {
    "pycharm": {
     "name": "#%%\n"
    }
   },
   "outputs": [],
   "source": []
  },
  {
   "cell_type": "code",
   "execution_count": null,
   "id": "349ea232-7860-4221-b0b1-5e60562a87d7",
   "metadata": {
    "pycharm": {
     "name": "#%%\n"
    }
   },
   "outputs": [],
   "source": []
  },
  {
   "cell_type": "code",
   "execution_count": null,
   "id": "c2483f5f-47f5-47e8-bd04-d079c697f59c",
   "metadata": {
    "pycharm": {
     "name": "#%%\n"
    }
   },
   "outputs": [],
   "source": []
  },
  {
   "cell_type": "code",
   "execution_count": null,
   "id": "70439d8e-c101-41ed-8203-f37b2ec523c6",
   "metadata": {
    "pycharm": {
     "name": "#%%\n"
    }
   },
   "outputs": [],
   "source": []
  },
  {
   "cell_type": "code",
   "execution_count": null,
   "id": "929812b8-6e9e-4d3f-a10c-8946872e6696",
   "metadata": {
    "pycharm": {
     "name": "#%%\n"
    }
   },
   "outputs": [],
   "source": []
  },
  {
   "cell_type": "code",
   "execution_count": null,
   "id": "2796bb5f-290f-4bc3-9d19-2059519e32ed",
   "metadata": {
    "pycharm": {
     "name": "#%%\n"
    }
   },
   "outputs": [],
   "source": [
    "observed_data.cpu().numpy().tofile('marmousi2_130_200_data_experiments_filter_12_13_fs.bin')\n",
    "noise.cpu().numpy().tofile('marmousi2_130_200_data_noise_experiments_filter_12_13_fs.bin')"
   ]
  },
  {
   "cell_type": "code",
   "execution_count": null,
   "id": "24fd2a91-c572-4489-a936-eecc1a6e7a06",
   "metadata": {
    "pycharm": {
     "name": "#%%\n"
    }
   },
   "outputs": [],
   "source": []
  }
 ],
 "metadata": {
  "kernelspec": {
   "display_name": "Python 3 (ipykernel)",
   "language": "python",
   "name": "python3"
  },
  "language_info": {
   "codemirror_mode": {
    "name": "ipython",
    "version": 3
   },
   "file_extension": ".py",
   "mimetype": "text/x-python",
   "name": "python",
   "nbconvert_exporter": "python",
   "pygments_lexer": "ipython3",
   "version": "3.10.16"
  }
 },
 "nbformat": 4,
 "nbformat_minor": 5
}