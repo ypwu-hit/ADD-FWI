{
 "cells": [
  {
   "cell_type": "code",
   "execution_count": null,
   "id": "d61bd8bc",
   "metadata": {
    "pycharm": {
     "name": "#%%\n"
    }
   },
   "outputs": [],
   "source": [
    "# @author: wuyuping (ypwu@stu.hit.edu.cn)\n",
    "\n",
    "import torch\n",
    "import matplotlib.pyplot as plt"
   ]
  },
  {
   "cell_type": "code",
   "execution_count": null,
   "id": "9e7092fc",
   "metadata": {
    "pycharm": {
     "name": "#%%\n"
    }
   },
   "outputs": [],
   "source": [
    "import scipy.io\n",
    "import numpy as np\n",
    "data_path = ''\n",
    "    \n",
    "ny = 340\n",
    "nx = 130\n",
    "\n",
    "v_true = torch.from_file(data_path+'mar_big_vp_130_340.bin',\n",
    "                    size=ny * nx).reshape(ny, nx)\n",
    "print(v_true.shape)"
   ]
  },
  {
   "cell_type": "code",
   "execution_count": null,
   "id": "c8f3f84e",
   "metadata": {
    "pycharm": {
     "name": "#%%\n"
    }
   },
   "outputs": [],
   "source": [
    "from scipy.ndimage import gaussian_filter"
   ]
  },
  {
   "cell_type": "code",
   "execution_count": null,
   "id": "1b018bc6",
   "metadata": {
    "pycharm": {
     "name": "#%%\n"
    }
   },
   "outputs": [],
   "source": [
    "v_init = (torch.tensor(1/gaussian_filter(1/v_true.cpu().numpy(), 30)))"
   ]
  },
  {
   "cell_type": "code",
   "execution_count": null,
   "id": "71aaf460-6639-46e9-aa1b-b8fb524d7317",
   "metadata": {
    "pycharm": {
     "name": "#%%\n"
    }
   },
   "outputs": [],
   "source": []
  },
  {
   "cell_type": "code",
   "execution_count": null,
   "id": "ec66b8e5",
   "metadata": {
    "pycharm": {
     "name": "#%%\n"
    }
   },
   "outputs": [],
   "source": [
    "plt.figure(figsize=(10, 5))\n",
    "\n",
    "plt.rcParams['xtick.bottom'] = plt.rcParams['xtick.labelbottom'] = False\n",
    "plt.rcParams['xtick.top'] = plt.rcParams['xtick.labeltop'] = True\n",
    "plt.title(\"Position (km)\", fontsize=20)\n",
    "\n",
    "plt.imshow(v_init.T, aspect='auto', cmap='jet', vmin=1100, vmax=4700)\n",
    "plt.yticks(np.arange(0,2.925,1)*1000.0/22.5, [0,1,2], fontsize=15)\n",
    "plt.xticks(np.arange(0,7.650,2)*1000.0/22.5, [0,2,4,6], fontsize=15)\n",
    "\n",
    "plt.colorbar()\n",
    "\n",
    "plt.plot(torch.ones(130)*60, np.arange(0,130), color='k', linestyle='-.')\n",
    "plt.plot(torch.ones(130)*207, np.arange(0,130), color='k', linestyle='-.')\n",
    "plt.plot(torch.ones(130)*290, np.arange(0,130), color='k', linestyle='-.')\n",
    "plt.scatter(60, 2, marker='o', color =\"#d6641e\", zorder=2, s=50, label='Well1')\n",
    "plt.scatter(207, 2, marker='s', color =\"#d6641e\", zorder=2, s=50, label='Well2')\n",
    "plt.scatter(290, 2, marker='v', color =\"#d6641e\", zorder=2, s=50, label='Well3')\n",
    "plt.legend(bbox_to_anchor=(0.75, 0.01), ncol=3,edgecolor='k', handletextpad=0.1, fontsize=13, borderpad =0.3)\n",
    "\n",
    "# plt.xlabel(\"X\")\n",
    "plt.ylabel(\"Depth (km)\", fontsize=20)\n",
    "# plt.title(\"outputs\")\n",
    "plt.tight_layout()\n",
    "# plt.savefig('M2-init.png',dpi=100,transparent=True,bbox_inches='tight')\n",
    "# plt.savefig('M2-init.eps',dpi=100,transparent=True,bbox_inches='tight')"
   ]
  },
  {
   "cell_type": "code",
   "execution_count": null,
   "id": "1f2f71d8",
   "metadata": {
    "pycharm": {
     "name": "#%%\n"
    }
   },
   "outputs": [],
   "source": [
    "plt.figure(figsize=(10, 5))\n",
    "\n",
    "plt.rcParams['xtick.bottom'] = plt.rcParams['xtick.labelbottom'] = False\n",
    "plt.rcParams['xtick.top'] = plt.rcParams['xtick.labeltop'] = True\n",
    "plt.title(\"Position (km)\", fontsize=20)\n",
    "\n",
    "plt.imshow(v_true.T, aspect='auto', cmap='jet', vmin=1100, vmax=4700)\n",
    "plt.yticks(np.arange(0,2.925,1)*1000.0/22.5, [0,1,2], fontsize=15)\n",
    "plt.xticks(np.arange(0,7.650,2)*1000.0/22.5, [0,2,4,6], fontsize=15)\n",
    "plt.colorbar()\n",
    "\n",
    "plt.plot(torch.ones(130)*60, np.arange(0,130), color='k', linestyle='-.')\n",
    "plt.plot(torch.ones(130)*207, np.arange(0,130), color='k', linestyle='-.')\n",
    "plt.plot(torch.ones(130)*290, np.arange(0,130), color='k', linestyle='-.')\n",
    "plt.scatter(60, 2, marker='o', color =\"#d6641e\", zorder=2, s=50, label='Well1')\n",
    "plt.scatter(207, 2, marker='s', color =\"#d6641e\", zorder=2, s=50, label='Well2')\n",
    "plt.scatter(290, 2, marker='v', color =\"#d6641e\", zorder=2, s=50, label='Well3')\n",
    "plt.legend(bbox_to_anchor=(0.75, 0.01), ncol=3,edgecolor='k', handletextpad=0.1, fontsize=13, borderpad =0.3)\n",
    "# plt.xlabel(\"X\")\n",
    "plt.ylabel(\"Depth (km)\", fontsize=20)\n",
    "# plt.title(\"outputs\")\n",
    "plt.tight_layout()\n",
    "# plt.savefig('M2-true.png',dpi=100,transparent=True,bbox_inches='tight')\n",
    "# plt.savefig('M2-true.eps',dpi=100,transparent=True,bbox_inches='tight')\n",
    "# plt.savefig('denoise_data_nor.png')\n",
    "# plt.close()"
   ]
  },
  {
   "cell_type": "code",
   "execution_count": null,
   "id": "4437492e",
   "metadata": {
    "pycharm": {
     "name": "#%%\n"
    }
   },
   "outputs": [],
   "source": [
    "import deepwave"
   ]
  },
  {
   "cell_type": "code",
   "execution_count": null,
   "id": "c0a70fdf",
   "metadata": {
    "pycharm": {
     "name": "#%%\n"
    }
   },
   "outputs": [],
   "source": [
    "dx = 22.5\n",
    "n_shots = 30\n",
    "\n",
    "n_sources_per_shot = 1\n",
    "d_source = 11\n",
    "first_source = 5\n",
    "source_depth = 1\n",
    "\n",
    "n_receivers_per_shot = 339\n",
    "d_receiver = 1\n",
    "first_receiver = 0\n",
    "receiver_depth = 1\n",
    "\n",
    "freq = 7\n",
    "nt = 2000\n",
    "dt = 0.002\n",
    "peak_time = 1.0 / freq\n",
    "\n",
    "print(deepwave.common.cfl_condition(dy = dx, dx = dx, dt = dt, max_vel = 4700))"
   ]
  },
  {
   "cell_type": "code",
   "execution_count": null,
   "id": "146851c9",
   "metadata": {
    "pycharm": {
     "name": "#%%\n"
    }
   },
   "outputs": [],
   "source": [
    "from scipy.signal import butter\n",
    "from torchaudio.functional import biquad"
   ]
  },
  {
   "cell_type": "code",
   "execution_count": null,
   "id": "a0383fc0",
   "metadata": {
    "pycharm": {
     "name": "#%%\n"
    }
   },
   "outputs": [],
   "source": [
    "# source_locations, [shot, source, space]\n",
    "source_locations = torch.zeros(n_shots, n_sources_per_shot, 2,\n",
    "                               dtype=torch.long)\n",
    "source_locations[..., 1] = source_depth\n",
    "source_locations[:, 0, 0] = torch.arange(n_shots) * d_source + first_source\n",
    "\n",
    "# receiver_locations [shot, receiver, space]\n",
    "receiver_locations = torch.zeros(n_shots, n_receivers_per_shot, 2,\n",
    "                                 dtype=torch.long)\n",
    "receiver_locations[..., 1] = receiver_depth\n",
    "receiver_locations[:, :, 0] = (\n",
    "    (torch.arange(n_receivers_per_shot) * d_receiver + first_receiver)\n",
    "        .repeat(n_shots, 1)\n",
    ")\n",
    "\n",
    "# source_amplitudes [shot, source, time]\n",
    "source_amplitudes = (\n",
    "    deepwave.wavelets.ricker(freq, nt, dt, peak_time)\n",
    ")\n",
    "\n",
    "sos = butter(6, 5, 'hp', fs=1/dt, output='sos')\n",
    "sos = [torch.tensor(sosi).to(source_amplitudes.dtype)\n",
    "       for sosi in sos]\n",
    "\n",
    "def filt(x):\n",
    "    return biquad(biquad(biquad(x, *sos[0]), *sos[1]),\n",
    "                  *sos[2])\n",
    "\n",
    "source_amplitudes_filt = filt(source_amplitudes).repeat(n_shots, n_sources_per_shot, 1)"
   ]
  },
  {
   "cell_type": "code",
   "execution_count": null,
   "id": "7bde131b",
   "metadata": {
    "pycharm": {
     "name": "#%%\n"
    }
   },
   "outputs": [],
   "source": [
    "source_amplitudes_filt.shape"
   ]
  },
  {
   "cell_type": "code",
   "execution_count": null,
   "id": "58a88a09",
   "metadata": {
    "pycharm": {
     "name": "#%%\n"
    }
   },
   "outputs": [],
   "source": [
    "device = torch.device('cpu')"
   ]
  },
  {
   "cell_type": "code",
   "execution_count": null,
   "id": "51f9689d",
   "metadata": {
    "pycharm": {
     "name": "#%%\n"
    }
   },
   "outputs": [],
   "source": [
    "observed_data = deepwave.scalar(v_true.to(device), dx, dt, \n",
    "                           source_amplitudes=source_amplitudes_filt.to(device),\n",
    "                           source_locations=source_locations.to(device),\n",
    "                           receiver_locations=receiver_locations.to(device),\n",
    "                           max_vel=4700,\n",
    "                           accuracy=8,\n",
    "                           pml_freq=freq,\n",
    "                           pml_width=[20, 20, 0, 20])[-1]\n",
    "observed_data.shape"
   ]
  },
  {
   "cell_type": "code",
   "execution_count": null,
   "id": "856cf655",
   "metadata": {
    "pycharm": {
     "name": "#%%\n"
    }
   },
   "outputs": [],
   "source": [
    "def data_noise(observed_data, scale):\n",
    "    data_size = observed_data.size()\n",
    "    noise_d = torch.zeros_like(observed_data)\n",
    "    noise_d.normal_()\n",
    "    data_energy = torch.sqrt(torch.mean(observed_data**2,dim=[1,2], keepdim=False)) * scale\n",
    "    data_energy = data_energy.repeat(data_size[1],data_size[2]).reshape(data_size)\n",
    "    noise_d_energy = noise_d * data_energy\n",
    "    \n",
    "    return noise_d_energy"
   ]
  },
  {
   "cell_type": "code",
   "execution_count": null,
   "id": "e88a21e1",
   "metadata": {
    "pycharm": {
     "name": "#%%\n"
    }
   },
   "outputs": [],
   "source": [
    "noise = data_noise(observed_data, scale=0.5)\n",
    "observed_data_noise = observed_data + noise\n",
    "observed_data_noise.shape"
   ]
  },
  {
   "cell_type": "code",
   "execution_count": null,
   "id": "47c7e5da",
   "metadata": {
    "pycharm": {
     "name": "#%%\n"
    }
   },
   "outputs": [],
   "source": [
    "plt.figure(figsize=(10, 5))\n",
    "\n",
    "plt.rcParams['xtick.bottom'] = plt.rcParams['xtick.labelbottom'] = False\n",
    "plt.rcParams['xtick.top'] = plt.rcParams['xtick.labeltop'] = True\n",
    "plt.title(\"Position (km)\", fontsize=20)\n",
    "\n",
    "vmin, vmax = torch.quantile(observed_data[15],\n",
    "                            torch.tensor([0.05, 0.95]).to(device))\n",
    "plt.imshow(observed_data[15].cpu().T, aspect='auto',\n",
    "             cmap='seismic', vmin=-vmax, vmax=vmax)\n",
    "# plt.xlabel(\"Trace\", fontsize=15)\n",
    "plt.ylabel(\"Time (s)\", fontsize=20)\n",
    "plt.yticks(np.arange(0,2001,500), np.arange(0,2001,500)*0.002, fontsize=15)\n",
    "plt.xticks(np.arange(0,7.650,2)*1000.0/22.5, [0,2,4,6], fontsize=15)\n",
    "# plt.title(\"Seismic Data\", fontsize=15)\n",
    "plt.colorbar()\n",
    "plt.tight_layout()\n",
    "# plt.savefig('seismic_data.png',dpi=100,transparent=True,bbox_inches='tight')\n",
    "# plt.savefig('seismic_data.eps',dpi=100,transparent=True,bbox_inches='tight')"
   ]
  },
  {
   "cell_type": "code",
   "execution_count": null,
   "id": "d43f190d-b460-4a62-ab25-52e0c32e8378",
   "metadata": {
    "pycharm": {
     "name": "#%%\n"
    }
   },
   "outputs": [],
   "source": [
    "plt.figure(figsize=(10, 5))\n",
    "\n",
    "plt.rcParams['xtick.bottom'] = plt.rcParams['xtick.labelbottom'] = False\n",
    "plt.rcParams['xtick.top'] = plt.rcParams['xtick.labeltop'] = True\n",
    "plt.title(\"Position (km)\", fontsize=20)\n",
    "\n",
    "vmin, vmax = torch.quantile(observed_data_noise[15],\n",
    "                            torch.tensor([0.05, 0.95]).to(device))\n",
    "plt.imshow(observed_data_noise[15].cpu().T, aspect='auto',\n",
    "             cmap='seismic', vmin=-vmax, vmax=vmax)\n",
    "# plt.xlabel(\"Trace\", fontsize=15)\n",
    "plt.ylabel(\"Time (s)\", fontsize=20)\n",
    "plt.yticks(np.arange(0,2001,500), np.arange(0,2001,500)*0.002, fontsize=15)\n",
    "plt.xticks(np.arange(0,7.650,2)*1000.0/22.5, [0,2,4,6], fontsize=15)\n",
    "# plt.title(\"Seismic Data\", fontsize=15)\n",
    "plt.colorbar()\n",
    "plt.tight_layout()\n",
    "# plt.savefig('noisy_seismic_data.png',dpi=100,transparent=True,bbox_inches='tight')\n",
    "# plt.savefig('noisy_seismic_data.eps',dpi=100,transparent=True,bbox_inches='tight')"
   ]
  },
  {
   "cell_type": "code",
   "execution_count": null,
   "id": "b71745a1-8c3b-4de1-82fe-30ca6531bd8a",
   "metadata": {
    "pycharm": {
     "name": "#%%\n"
    }
   },
   "outputs": [],
   "source": []
  },
  {
   "cell_type": "code",
   "execution_count": null,
   "id": "a672d7b2-fa3e-46dc-92d0-5a3f682c93f3",
   "metadata": {
    "pycharm": {
     "name": "#%%\n"
    }
   },
   "outputs": [],
   "source": []
  },
  {
   "cell_type": "code",
   "execution_count": null,
   "id": "37171318-04d7-4f62-a6b4-e4f0531a1c09",
   "metadata": {
    "pycharm": {
     "name": "#%%\n"
    }
   },
   "outputs": [],
   "source": []
  },
  {
   "cell_type": "code",
   "execution_count": null,
   "id": "1b9f9109-d507-4f23-bed6-d7277bd1e60f",
   "metadata": {
    "pycharm": {
     "name": "#%%\n"
    }
   },
   "outputs": [],
   "source": [
    "#observed_data_noise,observed_data,noise"
   ]
  },
  {
   "cell_type": "code",
   "execution_count": null,
   "id": "a624df84-a1e7-44c0-9d13-67014e89892a",
   "metadata": {
    "pycharm": {
     "name": "#%%\n"
    }
   },
   "outputs": [],
   "source": [
    "snr = 0.0\n",
    "for i in range(n_shots):\n",
    "    rec_ind = observed_data[i,:,:]\n",
    "    target_ind  = observed_data_noise[i,:,:]\n",
    "    s      = 10*torch.log10(torch.sum(target_ind**2)/torch.sum((rec_ind-target_ind)**2))\n",
    "    snr    = snr + s\n",
    "snr = snr/n_shots\n",
    "print(snr)"
   ]
  },
  {
   "cell_type": "code",
   "execution_count": null,
   "id": "6e69307d-6cd1-42ba-aa8f-79f2b88995c8",
   "metadata": {
    "pycharm": {
     "name": "#%%\n"
    }
   },
   "outputs": [],
   "source": []
  },
  {
   "cell_type": "code",
   "execution_count": null,
   "id": "58609b5a",
   "metadata": {
    "pycharm": {
     "name": "#%%\n"
    }
   },
   "outputs": [],
   "source": [
    "observed_data.cpu().numpy().tofile(data_path+'marmousi2_130_340_data_experiments3_3_filt.bin')"
   ]
  },
  {
   "cell_type": "code",
   "execution_count": null,
   "id": "61bb7aad",
   "metadata": {
    "pycharm": {
     "name": "#%%\n"
    }
   },
   "outputs": [],
   "source": [
    "noise.cpu().numpy().tofile(data_path+'marmousi2_130_340_data_noise_experiments3_3_filt.bin')"
   ]
  },
  {
   "cell_type": "code",
   "execution_count": null,
   "id": "d6c0bf50",
   "metadata": {
    "pycharm": {
     "name": "#%%\n"
    }
   },
   "outputs": [],
   "source": []
  },
  {
   "cell_type": "code",
   "execution_count": null,
   "id": "194cd6ba",
   "metadata": {
    "pycharm": {
     "name": "#%%\n"
    }
   },
   "outputs": [],
   "source": [
    "# small offset acquisition setting"
   ]
  },
  {
   "cell_type": "code",
   "execution_count": null,
   "id": "fd4e6b32",
   "metadata": {
    "pycharm": {
     "name": "#%%\n"
    }
   },
   "outputs": [],
   "source": []
  },
  {
   "cell_type": "code",
   "execution_count": null,
   "id": "8e8d4ed4",
   "metadata": {
    "pycharm": {
     "name": "#%%\n"
    }
   },
   "outputs": [],
   "source": [
    "fig, axes = plt.subplots(2, 2, figsize=(12, 7))\n",
    "fig.subplots_adjust(wspace=0.05)\n",
    "\n",
    "im = axes[0,0].imshow(v_true.T, aspect='auto', cmap='jet', vmin=1100, vmax=4700)\n",
    "axes[0,0].set_yticks(np.arange(0,2.925,1)*1000.0/22.5, [0,1,2], fontsize=12)\n",
    "axes[0,0].set_xticks(np.arange(0,7.650,2)*1000.0/22.5, [0,2,4,6], fontsize=12)\n",
    "fig.colorbar(im, ax=axes[0,0])\n",
    "\n",
    "axes[0,0].plot(torch.ones(130)*60, np.arange(0,130), color='k', linestyle='-.')\n",
    "axes[0,0].plot(torch.ones(130)*207, np.arange(0,130), color='k', linestyle='-.')\n",
    "axes[0,0].plot(torch.ones(130)*290, np.arange(0,130), color='k', linestyle='-.')\n",
    "axes[0,0].scatter(60, 2, marker='o', color =\"#d6641e\", zorder=2, s=50, label='Well1')\n",
    "axes[0,0].scatter(207, 2, marker='s', color =\"#d6641e\", zorder=2, s=50, label='Well2')\n",
    "axes[0,0].scatter(290, 2, marker='v', color =\"#d6641e\", zorder=2, s=50, label='Well3')\n",
    "axes[0,0].legend(bbox_to_anchor=(0.9, 0.01), ncol=3,edgecolor='k', handletextpad=0.1, fontsize=10, borderpad =0.3)\n",
    "# plt.xlabel(\"X\")\n",
    "# 在顶部坐标轴设置标签\n",
    "axes[0,0].xaxis.set_label_position('top')\n",
    "# 设置顶部坐标轴的刻度线，如果没有下面的代码，默认刻度标签在底部\n",
    "axes[0,0].xaxis.tick_top()\n",
    "axes[0,0].set_xlabel(\"Position (km)\", fontsize=12)\n",
    "axes[0,0].set_ylabel(\"Depth (km)\", fontsize=12)\n",
    "# plt.title(\"outputs\")\n",
    "axes[0,0].text(-30,-5,\"a)\",fontsize = 18, weight='bold')\n",
    "\n",
    "\n",
    "im = axes[0,1].imshow(v_init.T, aspect='auto', cmap='jet', vmin=1100, vmax=4700)\n",
    "axes[0,1].set_yticks(np.arange(0,2.925,1)*1000.0/22.5, [0,1,2], fontsize=12)\n",
    "axes[0,1].set_xticks(np.arange(0,7.650,2)*1000.0/22.5, [0,2,4,6], fontsize=12)\n",
    "fig.colorbar(im, ax=axes[0,1])\n",
    "\n",
    "axes[0,1].plot(torch.ones(130)*60, np.arange(0,130), color='k', linestyle='-.')\n",
    "axes[0,1].plot(torch.ones(130)*207, np.arange(0,130), color='k', linestyle='-.')\n",
    "axes[0,1].plot(torch.ones(130)*290, np.arange(0,130), color='k', linestyle='-.')\n",
    "axes[0,1].scatter(60, 2, marker='o', color =\"#d6641e\", zorder=2, s=50, label='Well1')\n",
    "axes[0,1].scatter(207, 2, marker='s', color =\"#d6641e\", zorder=2, s=50, label='Well2')\n",
    "axes[0,1].scatter(290, 2, marker='v', color =\"#d6641e\", zorder=2, s=50, label='Well3')\n",
    "axes[0,1].legend(bbox_to_anchor=(0.9, 0.01), ncol=3,edgecolor='k', handletextpad=0.1, fontsize=10, borderpad =0.3)\n",
    "# 在顶部坐标轴设置标签\n",
    "axes[0,1].xaxis.set_label_position('top')\n",
    "# 设置顶部坐标轴的刻度线，如果没有下面的代码，默认刻度标签在底部\n",
    "axes[0,1].xaxis.tick_top()\n",
    "axes[0,1].set_xlabel(\"Position (km)\", fontsize=12)\n",
    "# axes[0,1].set_ylabel(\"Depth (km)\", fontsize=12)\n",
    "axes[0,1].yaxis.set_major_formatter(plt.NullFormatter())\n",
    "axes[0,1].set_yticks([])\n",
    "axes[0,1].text(-30,-5,\"b)\",fontsize = 18, weight='bold')\n",
    "\n",
    "# axes[1,0].set_title(\"Position (km)\", fontsize=20)\n",
    "vmin, vmax = torch.quantile(observed_data[15],\n",
    "                            torch.tensor([0.05, 0.95]).to(device))\n",
    "im = axes[1,0].imshow(observed_data[15].cpu().T, aspect='auto',\n",
    "             cmap='seismic', vmin=-vmax, vmax=vmax)\n",
    "# plt.xlabel(\"Trace\", fontsize=15)\n",
    "axes[1,0].set_ylabel(\"Time (s)\", fontsize=12)\n",
    "axes[1,0].set_yticks(np.arange(0,2001,500), np.arange(0,2001,500)*0.002, fontsize=12)\n",
    "# axes[1,0].set_xticks(np.arange(0,7.650,2)*1000.0/22.5, [0,2,4,6], fontsize=15)\n",
    "# plt.title(\"Seismic Data\", fontsize=15)\n",
    "axes[1,0].xaxis.set_major_formatter(plt.NullFormatter())\n",
    "axes[1,0].set_xticks([])\n",
    "fig.colorbar(im, ax=axes[1,0])\n",
    "axes[1,0].text(-60,-10,\"c)\",fontsize = 18, weight='bold')\n",
    "\n",
    "\n",
    "# axes[1,1].set_title(\"Position (km)\", fontsize=20)\n",
    "vmin, vmax = torch.quantile(observed_data_noise[15],\n",
    "                            torch.tensor([0.05, 0.95]).to(device))\n",
    "axes[1,1].imshow(observed_data_noise[15].cpu().T, aspect='auto',\n",
    "             cmap='seismic', vmin=-vmax, vmax=vmax)\n",
    "# plt.xlabel(\"Trace\", fontsize=15)\n",
    "# axes[1,1].set_ylabel(\"Time (s)\", fontsize=12)\n",
    "# axes[1,1].set_yticks(np.arange(0,2001,500), np.arange(0,2001,500)*0.002, fontsize=12)\n",
    "# axes[1,1].set_xticks(np.arange(0,7.650,2)*1000.0/22.5, [0,2,4,6], fontsize=15)\n",
    "# plt.title(\"Seismic Data\", fontsize=15)\n",
    "axes[1,1].xaxis.set_major_formatter(plt.NullFormatter())\n",
    "axes[1,1].set_xticks([])\n",
    "axes[1,1].yaxis.set_major_formatter(plt.NullFormatter())\n",
    "axes[1,1].set_yticks([])\n",
    "fig.colorbar(im, ax=axes[1,1])\n",
    "axes[1,1].text(-30,-10,\"d)\",fontsize = 18, weight='bold')\n",
    "\n",
    "# plt.savefig('add_m2.png',dpi=100,transparent=True,bbox_inches='tight')\n",
    "# plt.savefig('add_m2.eps',dpi=100,transparent=True,bbox_inches='tight')\n",
    "# plt.savefig('add_m2.pdf',dpi=100,transparent=True,bbox_inches='tight')"
   ]
  },
  {
   "cell_type": "code",
   "execution_count": null,
   "id": "558e9289",
   "metadata": {
    "pycharm": {
     "name": "#%%\n"
    }
   },
   "outputs": [],
   "source": []
  },
  {
   "cell_type": "code",
   "execution_count": null,
   "id": "9f6e0b9b-904b-4e8f-9ef7-d925f9e5386c",
   "metadata": {
    "pycharm": {
     "name": "#%%\n"
    }
   },
   "outputs": [],
   "source": []
  },
  {
   "cell_type": "code",
   "execution_count": null,
   "id": "07821aaf-2b38-44bd-a7b2-feffcdefcb7f",
   "metadata": {
    "pycharm": {
     "name": "#%%\n"
    }
   },
   "outputs": [],
   "source": []
  },
  {
   "cell_type": "code",
   "execution_count": null,
   "id": "ee04965c",
   "metadata": {
    "pycharm": {
     "name": "#%%\n"
    }
   },
   "outputs": [],
   "source": []
  },
  {
   "cell_type": "code",
   "execution_count": null,
   "id": "abc77119",
   "metadata": {
    "pycharm": {
     "name": "#%%\n"
    }
   },
   "outputs": [],
   "source": []
  },
  {
   "cell_type": "code",
   "execution_count": null,
   "id": "1e897f29",
   "metadata": {
    "pycharm": {
     "name": "#%%\n"
    }
   },
   "outputs": [],
   "source": []
  },
  {
   "cell_type": "code",
   "execution_count": null,
   "id": "f5ab6d60",
   "metadata": {
    "pycharm": {
     "name": "#%%\n"
    }
   },
   "outputs": [],
   "source": []
  },
  {
   "cell_type": "code",
   "execution_count": null,
   "id": "6f4eef30",
   "metadata": {
    "pycharm": {
     "name": "#%%\n"
    }
   },
   "outputs": [],
   "source": []
  },
  {
   "cell_type": "code",
   "execution_count": null,
   "id": "1764b473",
   "metadata": {
    "pycharm": {
     "name": "#%%\n"
    }
   },
   "outputs": [],
   "source": []
  },
  {
   "cell_type": "code",
   "execution_count": null,
   "id": "e5588f46",
   "metadata": {
    "pycharm": {
     "name": "#%%\n"
    }
   },
   "outputs": [],
   "source": []
  },
  {
   "cell_type": "code",
   "execution_count": null,
   "id": "8c295d7d",
   "metadata": {
    "pycharm": {
     "name": "#%%\n"
    }
   },
   "outputs": [],
   "source": []
  },
  {
   "cell_type": "code",
   "execution_count": null,
   "id": "6e5bf0ec",
   "metadata": {
    "pycharm": {
     "name": "#%%\n"
    }
   },
   "outputs": [],
   "source": []
  }
 ],
 "metadata": {
  "kernelspec": {
   "display_name": "Python 3 (ipykernel)",
   "language": "python",
   "name": "python3"
  },
  "language_info": {
   "codemirror_mode": {
    "name": "ipython",
    "version": 3
   },
   "file_extension": ".py",
   "mimetype": "text/x-python",
   "name": "python",
   "nbconvert_exporter": "python",
   "pygments_lexer": "ipython3",
   "version": "3.10.16"
  }
 },
 "nbformat": 4,
 "nbformat_minor": 5
}